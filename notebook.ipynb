{
 "cells": [
  {
   "cell_type": "code",
   "execution_count": null,
   "metadata": {},
   "outputs": [],
   "source": [
    "raw_dataset_path = \"./raw_dataset\"\n",
    "dataset_path = \"./dataset\"\n",
    "log_path = \"./logs\""
   ]
  },
  {
   "cell_type": "code",
   "execution_count": null,
   "metadata": {},
   "outputs": [],
   "source": [
    "!python ./stylegan2-ada-pytorch/dataset_tool.py --source {raw_dataset_path} --dest {dataset_path} --width=64 --height=64"
   ]
  },
  {
   "cell_type": "code",
   "execution_count": null,
   "metadata": {},
   "outputs": [],
   "source": [
    "!python ./stylegan2-ada-pytorch/train.py --outdir={log_path} --data={dataset_path} --gpus=1"
   ]
  }
 ],
 "metadata": {
  "language_info": {
   "name": "python"
  },
  "orig_nbformat": 4
 },
 "nbformat": 4,
 "nbformat_minor": 2
}
